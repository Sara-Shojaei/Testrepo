{
 "cells": [
  {
   "cell_type": "markdown",
   "id": "42fd40a0",
   "metadata": {},
   "source": [
    "# Data Science Tools and Ecosystem"
   ]
  },
  {
   "cell_type": "markdown",
   "id": "64cbb57b",
   "metadata": {},
   "source": [
    "In this notebook, Data Science Tools and Ecosystem are summarized"
   ]
  },
  {
   "cell_type": "markdown",
   "id": "e9de924c",
   "metadata": {},
   "source": [
    "Some of the popular languages that Data Scientists use are:\n",
    "1. R\n",
    "2. Python\n",
    "3. C++"
   ]
  },
  {
   "cell_type": "markdown",
   "id": "22a75148",
   "metadata": {},
   "source": [
    "Some of the commonly used libraries used by Data Scientists include:\n",
    "* Pandas\n",
    "* Numpy\n",
    "* Matplitlib\n",
    "* PyTorch\n",
    "* Scikit-Learn"
   ]
  },
  {
   "cell_type": "markdown",
   "id": "5e08e19a",
   "metadata": {},
   "source": [
    "### Data Science tools\n",
    "\n",
    " |No.| Name of tool  |\n",
    "|---|--------|\n",
    "| 1 |  Python |\n",
    "| 2 |  R Programming   |   \n",
    "| 3 | Git |   \n",
    "| 4 | Apache Spark |   \n",
    "| 5 | Tensorflow |   "
   ]
  },
  {
   "cell_type": "markdown",
   "id": "1e4d4026",
   "metadata": {},
   "source": [
    "### Below are a few examples of evaluating arithmetic expressions in Python\n",
    "\n",
    "<!-- This a simple arithmetic expression to mutiply then add integers. -->\n",
    "In this code cell evaluate the expression $(3*4) + 5$"
   ]
  },
  {
   "cell_type": "code",
   "execution_count": 1,
   "id": "fac5172f",
   "metadata": {},
   "outputs": [
    {
     "name": "stdout",
     "output_type": "stream",
     "text": [
      "The result of the expression (3*4) + 5 is: 17\n"
     ]
    }
   ],
   "source": [
    "result = (3*4) + 5\n",
    "print(\"The result of the expression (3*4) + 5 is:\", result)"
   ]
  },
  {
   "cell_type": "markdown",
   "id": "a7166e06",
   "metadata": {},
   "source": [
    "In this code cell write an expression that converts `200 minutes` into `hours`."
   ]
  },
  {
   "cell_type": "code",
   "execution_count": 2,
   "id": "ad497be8",
   "metadata": {},
   "outputs": [
    {
     "name": "stdout",
     "output_type": "stream",
     "text": [
      "The result of the expression (200/60)is: 3.3333333333333335\n"
     ]
    }
   ],
   "source": [
    "# This will convert 200 minutes to hours by diving by 60\n",
    "result = (200 / 60)\n",
    "print(\"The result of the expression (200/60)is:\", result)"
   ]
  },
  {
   "cell_type": "markdown",
   "id": "9f7d69a3",
   "metadata": {},
   "source": [
    "**Objectives:**\n",
    "\n",
    "- R\n",
    "- Python\n",
    "- C++"
   ]
  },
  {
   "cell_type": "markdown",
   "id": "4c899de5",
   "metadata": {},
   "source": [
    "## Author\n",
    "\n",
    "Sara Shojaei"
   ]
  },
  {
   "cell_type": "code",
   "execution_count": null,
   "id": "a66f4ac1",
   "metadata": {},
   "outputs": [],
   "source": []
  }
 ],
 "metadata": {
  "kernelspec": {
   "display_name": "Python 3 (ipykernel)",
   "language": "python",
   "name": "python3"
  },
  "language_info": {
   "codemirror_mode": {
    "name": "ipython",
    "version": 3
   },
   "file_extension": ".py",
   "mimetype": "text/x-python",
   "name": "python",
   "nbconvert_exporter": "python",
   "pygments_lexer": "ipython3",
   "version": "3.10.9"
  }
 },
 "nbformat": 4,
 "nbformat_minor": 5
}
